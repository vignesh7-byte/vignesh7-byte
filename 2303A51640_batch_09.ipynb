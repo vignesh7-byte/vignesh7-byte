{
  "nbformat": 4,
  "nbformat_minor": 0,
  "metadata": {
    "colab": {
      "provenance": [],
      "authorship_tag": "ABX9TyNSJp8yEHpnHqgvTMw7ndg6",
      "include_colab_link": true
    },
    "kernelspec": {
      "name": "python3",
      "display_name": "Python 3"
    },
    "language_info": {
      "name": "python"
    }
  },
  "cells": [
    {
      "cell_type": "markdown",
      "metadata": {
        "id": "view-in-github",
        "colab_type": "text"
      },
      "source": [
        "<a href=\"https://colab.research.google.com/github/vignesh7-byte/vignesh7-byte/blob/main/2303A51640_batch_09.ipynb\" target=\"_parent\"><img src=\"https://colab.research.google.com/assets/colab-badge.svg\" alt=\"Open In Colab\"/></a>"
      ]
    },
    {
      "cell_type": "markdown",
      "source": [
        "prediction of Gender by Names given to the new born babies\n",
        "\n",
        "Q1.identify the top-10 names given to the babies\n",
        "\n",
        "Q2.find the Max and Min count of babies with similar names\n",
        "                                                                        \n",
        "Q3.name the gender which as aquired the most names among the babies\n",
        "\n",
        "Q4.identify the top-5 probabilities of occurance of male and female babies\n",
        "Q5.name the top-5 names with highest probabilities\n",
        "Q6.apply either classification of clustering of Regression model and evaluate the accurracy error metrics of the model"
      ],
      "metadata": {
        "id": "3UJrPCgf4hXm"
      }
    },
    {
      "source": [
        "import pandas as pd\n",
        "\n",
        "# ... (Your existing data and DataFrame 'df') ...\n",
        "\n",
        "# Sort the DataFrame by 'Count' in descending order\n",
        "df_sorted = df.sort_values(by=['Count'], ascending=False)\n",
        "\n",
        "# Select the top 10 names\n",
        "top_10_names = df_sorted.head(10)['Name'].tolist()\n",
        "\n",
        "# Print the top 10 names\n",
        "print(\"Top 10 baby names:\")\n",
        "for name in top_10_names:\n",
        "    print(name)"
      ],
      "cell_type": "code",
      "metadata": {
        "colab": {
          "base_uri": "https://localhost:8080/"
        },
        "id": "0zeBtmj_GNiK",
        "outputId": "d6080119-f2d5-4329-987c-1d064d2994cd"
      },
      "execution_count": 16,
      "outputs": [
        {
          "output_type": "stream",
          "name": "stdout",
          "text": [
            "Top 10 baby names:\n",
            "James\n",
            "John\n",
            "Robert\n",
            "Michael\n",
            "William\n",
            "Mary\n",
            "David\n",
            "Joseph\n",
            "Richard\n",
            "Charles\n"
          ]
        }
      ]
    },
    {
      "cell_type": "code",
      "source": [
        "!pip install fuzzywuzzy python-Levenshtein"
      ],
      "metadata": {
        "colab": {
          "base_uri": "https://localhost:8080/"
        },
        "id": "BqDIzBe4H8gR",
        "outputId": "88a14f7e-0319-4e99-ea08-2241cd047763"
      },
      "execution_count": 24,
      "outputs": [
        {
          "output_type": "stream",
          "name": "stdout",
          "text": [
            "Collecting fuzzywuzzy\n",
            "  Downloading fuzzywuzzy-0.18.0-py2.py3-none-any.whl.metadata (4.9 kB)\n",
            "Collecting python-Levenshtein\n",
            "  Downloading python_Levenshtein-0.26.1-py3-none-any.whl.metadata (3.7 kB)\n",
            "Collecting Levenshtein==0.26.1 (from python-Levenshtein)\n",
            "  Downloading levenshtein-0.26.1-cp310-cp310-manylinux_2_17_x86_64.manylinux2014_x86_64.whl.metadata (3.2 kB)\n",
            "Collecting rapidfuzz<4.0.0,>=3.9.0 (from Levenshtein==0.26.1->python-Levenshtein)\n",
            "  Downloading rapidfuzz-3.10.1-cp310-cp310-manylinux_2_17_x86_64.manylinux2014_x86_64.whl.metadata (11 kB)\n",
            "Downloading fuzzywuzzy-0.18.0-py2.py3-none-any.whl (18 kB)\n",
            "Downloading python_Levenshtein-0.26.1-py3-none-any.whl (9.4 kB)\n",
            "Downloading levenshtein-0.26.1-cp310-cp310-manylinux_2_17_x86_64.manylinux2014_x86_64.whl (162 kB)\n",
            "\u001b[2K   \u001b[90m━━━━━━━━━━━━━━━━━━━━━━━━━━━━━━━━━━━━━━━━\u001b[0m \u001b[32m162.6/162.6 kB\u001b[0m \u001b[31m4.8 MB/s\u001b[0m eta \u001b[36m0:00:00\u001b[0m\n",
            "\u001b[?25hDownloading rapidfuzz-3.10.1-cp310-cp310-manylinux_2_17_x86_64.manylinux2014_x86_64.whl (3.1 MB)\n",
            "\u001b[2K   \u001b[90m━━━━━━━━━━━━━━━━━━━━━━━━━━━━━━━━━━━━━━━━\u001b[0m \u001b[32m3.1/3.1 MB\u001b[0m \u001b[31m37.6 MB/s\u001b[0m eta \u001b[36m0:00:00\u001b[0m\n",
            "\u001b[?25hInstalling collected packages: fuzzywuzzy, rapidfuzz, Levenshtein, python-Levenshtein\n",
            "Successfully installed Levenshtein-0.26.1 fuzzywuzzy-0.18.0 python-Levenshtein-0.26.1 rapidfuzz-3.10.1\n"
          ]
        }
      ]
    },
    {
      "source": [
        "!pip install fuzzywuzzy python-Levenshtein\n",
        "import pandas as pd\n",
        "from fuzzywuzzy import fuzz\n",
        "\n",
        "# ... (Your existing data and DataFrame 'df') ...\n",
        "\n",
        "# Assuming your DataFrame only has 'Name' and 'Count' columns\n",
        "# Modify this if you have other relevant columns for grouping\n",
        "\n",
        "def group_similar_names(names, threshold=80):\n",
        "    \"\"\"\n",
        "    Groups similar names based on a similarity threshold.\n",
        "\n",
        "    Args:\n",
        "        names: A list of tuples containing (name, count).\n",
        "        threshold: The similarity threshold (0-100).\n",
        "\n",
        "    Returns:\n",
        "        A list of grouped names.\n",
        "    \"\"\"\n",
        "    grouped = []\n",
        "    for name, count in names:  # Changed to iterate over name and count only\n",
        "        found_group = False\n",
        "        for group in grouped:\n",
        "            group_name = group[0][0]\n",
        "            if fuzz.partial_ratio(name, group_name) >= threshold:\n",
        "                group.append((name, count))  # Appended name and count only\n",
        "                found_group = True\n",
        "                break\n",
        "        if not found_group:\n",
        "            grouped.append([(name, count)])  # Initialized with name and count only\n",
        "    return grouped\n",
        "\n",
        "# Group the names based on similarity\n",
        "# Select only the 'Name' and 'Count' columns\n",
        "grouped_data = group_similar_names(df[['Name', 'Count']].values)\n",
        "\n",
        "# Calculate the total counts for each group\n",
        "grouped_counts = [(group[0][0], sum([count for name, count in group])) for group in grouped_data] # Updated to reflect changes in group_similar_names output\n",
        "\n",
        "# Create a DataFrame\n",
        "grouped_df = pd.DataFrame(grouped_counts, columns=['Group', 'Total Count'])\n",
        "\n",
        "# Find the group with max and min total counts\n",
        "max_count_group = grouped_df.loc[grouped_df['Total Count'].idxmax()]\n",
        "min_count_group = grouped_df.loc[grouped_df['Total Count'].idxmin()]\n",
        "\n",
        "print(\"Max Count Group:\")\n",
        "print(max_count_group)\n",
        "print(\"\\nMin Count Group:\")\n",
        "print(min_count_group)"
      ],
      "cell_type": "code",
      "metadata": {
        "colab": {
          "base_uri": "https://localhost:8080/"
        },
        "id": "DUmhWLZZISkP",
        "outputId": "2d87e6a6-d5c0-46e0-a927-5ce9679b45b8"
      },
      "execution_count": 26,
      "outputs": [
        {
          "output_type": "stream",
          "name": "stdout",
          "text": [
            "Requirement already satisfied: fuzzywuzzy in /usr/local/lib/python3.10/dist-packages (0.18.0)\n",
            "Requirement already satisfied: python-Levenshtein in /usr/local/lib/python3.10/dist-packages (0.26.1)\n",
            "Requirement already satisfied: Levenshtein==0.26.1 in /usr/local/lib/python3.10/dist-packages (from python-Levenshtein) (0.26.1)\n",
            "Requirement already satisfied: rapidfuzz<4.0.0,>=3.9.0 in /usr/local/lib/python3.10/dist-packages (from Levenshtein==0.26.1->python-Levenshtein) (3.10.1)\n",
            "Max Count Group:\n",
            "Group          Aiden\n",
            "Total Count    18600\n",
            "Name: 2, dtype: object\n",
            "\n",
            "Min Count Group:\n",
            "Group          John\n",
            "Total Count    8000\n",
            "Name: 8, dtype: object\n"
          ]
        }
      ]
    },
    {
      "cell_type": "code",
      "source": [
        "import pandas as pd\n",
        "\n",
        "data = [\n",
        "    ('Emma', 12345, 'Female'),\n",
        "    ('Emily', 10120, 'Female'),\n",
        "    ('Emely', 1200, 'Female'),\n",
        "    ('Aiden', 8900, 'Male'),\n",
        "    ('Ayden', 8200, 'Male'),\n",
        "    ('Aidan', 1500, 'Male'),\n",
        "    ('Jackson', 10500, 'Male'),\n",
        "    ('Jaxon', 9400, 'Male'),\n",
        "    ('Sophia', 15000, 'Female'),\n",
        "    ('Sofia', 14000, 'Female'),\n",
        "    ('James', 9000, 'Male'),\n",
        "    ('John', 8000, 'Male'),\n",
        "    ('Olivia', 13000, 'Female'),\n",
        "    ('Liam', 11000, 'Male')\n",
        "]\n",
        "\n",
        "# Create a DataFrame from the sample data\n",
        "df = pd.DataFrame(data, columns=['Name', 'Count', 'Gender'])\n"
      ],
      "metadata": {
        "id": "pdR-Ea_3JCSD"
      },
      "execution_count": 32,
      "outputs": []
    },
    {
      "cell_type": "code",
      "source": [
        "# Count the number of unique names for each gender\n",
        "gender_name_count = df.groupby('Gender')['Name'].nunique()\n",
        "\n",
        "# Identify the gender with the most unique names\n",
        "max_gender = gender_name_count.idxmax()\n",
        "\n",
        "print(f\"The gender which has acquired the most names is: {max_gender}\")\n"
      ],
      "metadata": {
        "colab": {
          "base_uri": "https://localhost:8080/"
        },
        "id": "6Z0Q8uySJFbK",
        "outputId": "80d58d8c-8cd2-4d14-c17f-3fb89211258c"
      },
      "execution_count": 33,
      "outputs": [
        {
          "output_type": "stream",
          "name": "stdout",
          "text": [
            "The gender which has acquired the most names is: Male\n"
          ]
        }
      ]
    },
    {
      "cell_type": "code",
      "source": [
        "# Total count of babies\n",
        "total_babies = df['Count'].sum()\n",
        "\n",
        "# Calculate the probability of occurrence of male and female babies\n",
        "gender_probabilities = df.groupby('Gender')['Count'].sum() / total_babies\n",
        "\n",
        "# Get the top-5 probabilities\n",
        "top_5_gender_probs = gender_probabilities.sort_values(ascending=False).head(5)\n",
        "\n",
        "print(\"Top-5 Probabilities of Occurrence of Male and Female Babies:\")\n",
        "print(top_5_gender_probs)\n"
      ],
      "metadata": {
        "colab": {
          "base_uri": "https://localhost:8080/"
        },
        "id": "flqRL6h-JJ06",
        "outputId": "1a2afc02-86c5-41c2-cd19-9ef7c767ef5a"
      },
      "execution_count": 34,
      "outputs": [
        {
          "output_type": "stream",
          "name": "stdout",
          "text": [
            "Top-5 Probabilities of Occurrence of Male and Female Babies:\n",
            "Gender\n",
            "Male      0.503159\n",
            "Female    0.496841\n",
            "Name: Count, dtype: float64\n"
          ]
        }
      ]
    },
    {
      "cell_type": "code",
      "source": [
        "# Calculate the probability for each name\n",
        "df['Name Probability'] = df['Count'] / total_babies\n",
        "\n",
        "# Get the top-5 names by probability\n",
        "top_5_names_by_prob = df[['Name', 'Name Probability']].sort_values(by='Name Probability', ascending=False).head(5)\n",
        "\n",
        "print(\"Top-5 Names with Highest Probabilities:\")\n",
        "print(top_5_names_by_prob)\n"
      ],
      "metadata": {
        "colab": {
          "base_uri": "https://localhost:8080/"
        },
        "id": "XSFP4DBoJOPL",
        "outputId": "0717d701-ab5d-43d8-e8a5-a5a562ddf461"
      },
      "execution_count": 35,
      "outputs": [
        {
          "output_type": "stream",
          "name": "stdout",
          "text": [
            "Top-5 Names with Highest Probabilities:\n",
            "      Name  Name Probability\n",
            "8   Sophia          0.113494\n",
            "9    Sofia          0.105928\n",
            "12  Olivia          0.098362\n",
            "0     Emma          0.093406\n",
            "13    Liam          0.083229\n"
          ]
        }
      ]
    },
    {
      "cell_type": "code",
      "source": [
        "from sklearn.model_selection import train_test_split\n",
        "from sklearn.preprocessing import LabelEncoder\n",
        "from sklearn.linear_model import LogisticRegression\n",
        "from sklearn.metrics import accuracy_score, classification_report\n",
        "\n",
        "# Encode the gender labels\n",
        "le = LabelEncoder()\n",
        "df['Gender_encoded'] = le.fit_transform(df['Gender'])\n",
        "\n",
        "# Feature and target\n",
        "X = df['Name']  # We need to convert the Name into a numerical feature\n",
        "y = df['Gender_encoded']\n",
        "\n",
        "# Convert names to a numerical feature (you can use other techniques such as TF-IDF, CountVectorizer, etc.)\n",
        "# For simplicity, let's use a basic method by taking the length of the name\n",
        "X = X.apply(lambda x: len(x)).values.reshape(-1, 1)\n",
        "\n",
        "# Split data into train and test\n",
        "X_train, X_test, y_train, y_test = train_test_split(X, y, test_size=0.3, random_state=42)\n",
        "\n",
        "# Train a Logistic Regression model\n",
        "model = LogisticRegression()\n",
        "model.fit(X_train, y_train)\n",
        "\n",
        "# Predict on test data\n",
        "y_pred = model.predict(X_test)\n",
        "\n",
        "# Evaluate the model\n",
        "accuracy = accuracy_score(y_test, y_pred)\n",
        "print(f\"Accuracy: {accuracy * 100:.2f}%\")\n",
        "print(\"\\nClassification Report:\")\n",
        "print(classification_report(y_test, y_pred, target_names=le.classes_))\n"
      ],
      "metadata": {
        "colab": {
          "base_uri": "https://localhost:8080/"
        },
        "id": "7AcdDtbOJRuP",
        "outputId": "d1c4a20c-9c94-419c-c2a1-66d1f965d9a2"
      },
      "execution_count": 36,
      "outputs": [
        {
          "output_type": "stream",
          "name": "stdout",
          "text": [
            "Accuracy: 40.00%\n",
            "\n",
            "Classification Report:\n",
            "              precision    recall  f1-score   support\n",
            "\n",
            "      Female       0.00      0.00      0.00         3\n",
            "        Male       0.40      1.00      0.57         2\n",
            "\n",
            "    accuracy                           0.40         5\n",
            "   macro avg       0.20      0.50      0.29         5\n",
            "weighted avg       0.16      0.40      0.23         5\n",
            "\n"
          ]
        },
        {
          "output_type": "stream",
          "name": "stderr",
          "text": [
            "/usr/local/lib/python3.10/dist-packages/sklearn/metrics/_classification.py:1531: UndefinedMetricWarning: Precision is ill-defined and being set to 0.0 in labels with no predicted samples. Use `zero_division` parameter to control this behavior.\n",
            "  _warn_prf(average, modifier, f\"{metric.capitalize()} is\", len(result))\n",
            "/usr/local/lib/python3.10/dist-packages/sklearn/metrics/_classification.py:1531: UndefinedMetricWarning: Precision is ill-defined and being set to 0.0 in labels with no predicted samples. Use `zero_division` parameter to control this behavior.\n",
            "  _warn_prf(average, modifier, f\"{metric.capitalize()} is\", len(result))\n",
            "/usr/local/lib/python3.10/dist-packages/sklearn/metrics/_classification.py:1531: UndefinedMetricWarning: Precision is ill-defined and being set to 0.0 in labels with no predicted samples. Use `zero_division` parameter to control this behavior.\n",
            "  _warn_prf(average, modifier, f\"{metric.capitalize()} is\", len(result))\n"
          ]
        }
      ]
    }
  ]
}